{
 "cells": [
  {
   "cell_type": "markdown",
   "metadata": {},
   "source": [
    "### 範例\n",
    "接下來的程式碼會示範如何定義一個簡單的 CNN model"
   ]
  },
  {
   "cell_type": "code",
   "execution_count": null,
   "metadata": {
    "collapsed": true
   },
   "outputs": [],
   "source": [
    "import numpy as np\n",
    "import pandas as pd\n",
    "import matplotlib.pyplot as plt\n",
    "%matplotlib inline"
   ]
  },
  {
   "cell_type": "code",
   "execution_count": null,
   "metadata": {},
   "outputs": [],
   "source": [
    "# 使用 colab 環境的同學請執行以下程式碼\n",
    "# %tensorflow_version 1.x # 確保 colob 中使用的 tensorflow 是 1.x 版本而不是 tensorflow 2\n",
    "# import tensorflow as tf\n",
    "# print(tf.__version__)\n",
    "\n",
    "# import os\n",
    "# from google.colab import drive \n",
    "# drive.mount('/content/gdrive') # 將 google drive 掛載在 colob，\n",
    "# %cd 'gdrive/My Drive'\n",
    "# os.system(\"mkdir cupoy_cv_part4\") # 可以自己改路徑\n",
    "# %cd cupoy_cv_part4 # 可以自己改路徑"
   ]
  },
  {
   "cell_type": "code",
   "execution_count": null,
   "metadata": {
    "collapsed": true
   },
   "outputs": [],
   "source": [
    "# 讀取資料集以及做前處理的函數\n",
    "def load_data(dirname):\n",
    "    # 讀取 csv 文件\n",
    "    data = pd.read_csv(dirname)\n",
    "    # 過濾有缺失值的 row\n",
    "    data = data.dropna()\n",
    "\n",
    "    # 將圖片像素值讀取為 numpy array 的形態\n",
    "    data['Image'] = data['Image'].apply(lambda img: np.fromstring(img, sep=' ')).values \n",
    "\n",
    "    # 單獨把圖像 array 抽取出來\n",
    "    imgs = np.vstack(data['Image'].values)/255\n",
    "    # reshape 為 96 x 96\n",
    "    imgs = imgs.reshape(data.shape[0], 96, 96)\n",
    "    # 轉換為 float\n",
    "    imgs = imgs.astype(np.float32)\n",
    "    \n",
    "    # 提取坐標的部分\n",
    "    points = data[data.columns[:-1]].values\n",
    "\n",
    "    # 轉換為 float\n",
    "    points = points.astype(np.float32)\n",
    "\n",
    "    # normalize 坐標值到 [-0.5, 0.5]\n",
    "    points = points/96 - 0.5\n",
    "    \n",
    "    return imgs, points"
   ]
  },
  {
   "cell_type": "code",
   "execution_count": null,
   "metadata": {},
   "outputs": [],
   "source": [
    "# 讀取資料\n",
    "imgs_train, points_train = load_data(dirname = 'training.csv')\n",
    "print(\"圖像資料:\", imgs_train.shape, \"\\n關鍵點資料:\", points_train.shape)"
   ]
  },
  {
   "cell_type": "code",
   "execution_count": null,
   "metadata": {},
   "outputs": [],
   "source": [
    "from keras.models import Sequential\n",
    "from keras.layers import Conv2D, MaxPooling2D, Flatten, Dense, Dropout"
   ]
  },
  {
   "cell_type": "code",
   "execution_count": null,
   "metadata": {},
   "outputs": [],
   "source": [
    "# 回傳定義好的 model 的函數\n",
    "def get_model():\n",
    "    # 定義人臉關鍵點檢測網路\n",
    "    model = Sequential()\n",
    "\n",
    "    # 定義神經網路的輸入\n",
    "    model.add(Conv2D(filters=16, kernel_size=3, activation='relu', input_shape=(96, 96, 1)))\n",
    "    model.add(MaxPooling2D(pool_size=2))\n",
    "\n",
    "    model.add(Conv2D(filters=32, kernel_size=3, activation='relu'))\n",
    "    model.add(MaxPooling2D(pool_size=2))\n",
    "\n",
    "    model.add(Conv2D(filters=64, kernel_size=3, activation='relu'))\n",
    "    model.add(MaxPooling2D(pool_size=2))\n",
    "\n",
    "    model.add(Conv2D(filters=128, kernel_size=3, activation='relu'))\n",
    "    model.add(MaxPooling2D(pool_size=2))\n",
    "\n",
    "    model.add(Flatten())\n",
    "    model.add(Dense(512, activation='relu'))\n",
    "    model.add(Dropout(0.2))\n",
    "    model.add(Dense(512, activation='relu'))\n",
    "    model.add(Dropout(0.2))\n",
    "\n",
    "    # 最後輸出 30 維的向量，也就是 15 個關鍵點的值\n",
    "    model.add(Dense(30))\n",
    "    return model"
   ]
  },
  {
   "cell_type": "code",
   "execution_count": null,
   "metadata": {
    "collapsed": true
   },
   "outputs": [],
   "source": [
    "model = get_model()\n",
    "# 配置 loss funtion 和 optimizer\n",
    "model.compile(loss='mean_squared_error', optimizer='adam')"
   ]
  },
  {
   "cell_type": "code",
   "execution_count": null,
   "metadata": {},
   "outputs": [],
   "source": [
    "# 印出網路結構\n",
    "model.summary()"
   ]
  },
  {
   "cell_type": "code",
   "execution_count": null,
   "metadata": {
    "collapsed": true
   },
   "outputs": [],
   "source": [
    "from keras.callbacks import ModelCheckpoint, History\n",
    "# model checkpoint \n",
    "checkpoint = ModelCheckpoint('best_weights.h5', verbose=1, save_best_only=True)\n",
    "hist = History()"
   ]
  },
  {
   "cell_type": "code",
   "execution_count": null,
   "metadata": {},
   "outputs": [],
   "source": [
    "# training the model\n",
    "hist_model = model.fit(imgs_train.reshape(-1, 96, 96, 1), \n",
    "                       points_train, \n",
    "                       validation_split=0.2, batch_size=64, callbacks=[checkpoint, hist],\n",
    "                       shuffle=True, epochs=150, verbose=1)\n",
    "# save the model weights\n",
    "model.save_weights('weights.h5')\n",
    "# save the model\n",
    "model.save('model.h5')"
   ]
  },
  {
   "cell_type": "code",
   "execution_count": null,
   "metadata": {},
   "outputs": [],
   "source": [
    "# loss 值的圖\n",
    "plt.title('Optimizer : Adam', fontsize=10)\n",
    "plt.ylabel('Loss', fontsize=16)\n",
    "plt.plot(hist_model.history['loss'], color='b', label='Training Loss')\n",
    "plt.plot(hist_model.history['val_loss'], color='r', label='Validation Loss')\n",
    "plt.legend(loc='upper right')"
   ]
  },
  {
   "cell_type": "markdown",
   "metadata": {},
   "source": [
    "### 觀察 model 在 testing 上的結果"
   ]
  },
  {
   "cell_type": "code",
   "execution_count": null,
   "metadata": {
    "collapsed": true
   },
   "outputs": [],
   "source": [
    "# 讀取測試資料集\n",
    "imgs_test, _ = load_data(dirname = 'test.csv')"
   ]
  },
  {
   "cell_type": "code",
   "execution_count": null,
   "metadata": {
    "collapsed": true
   },
   "outputs": [],
   "source": [
    "# 在灰階圖像上畫關鍵點的函數\n",
    "def plot_keypoints(img, points):\n",
    "    plt.imshow(img, cmap='gray')\n",
    "    for i in range(0,30,2):\n",
    "        plt.scatter((points[i] + 0.5)*96, (points[i+1]+0.5)*96, color='red')"
   ]
  },
  {
   "cell_type": "code",
   "execution_count": null,
   "metadata": {},
   "outputs": [],
   "source": [
    "fig = plt.figure(figsize=(15,15))\n",
    "# 在測試集圖片上用剛剛訓練好的模型做關鍵點的預測\n",
    "points_test = model.predict(imgs_test.reshape(imgs_test.shape[0], 96, 96, 1))\n",
    "\n",
    "for i in range(16):\n",
    "    ax = fig.add_subplot(4, 4, i + 1, xticks=[], yticks=[])\n",
    "    plot_keypoints(imgs_test[i], np.squeeze(points_test[i]))"
   ]
  },
  {
   "cell_type": "markdown",
   "metadata": {},
   "source": [
    "目前為止，大致可以觀察到，直接使用簡單的模型以及訓練方式在這組數據上應該可以在訓練集和測試集上都得到一個還不錯的結果，說明這組資料其實不會很難。"
   ]
  },
  {
   "cell_type": "markdown",
   "metadata": {},
   "source": [
    "### 作業\n",
    "請嘗試使用 flip (左右翻轉) 來做 augmentation 以降低人臉關鍵點檢測的 loss\n",
    "\n",
    "Note: 圖像 flip 之後，groundtruth 的關鍵點也要跟著 flip 哦\n",
    "\n",
    "\n"
   ]
  },
  {
   "cell_type": "code",
   "execution_count": null,
   "metadata": {},
   "outputs": [],
   "source": [
    "model_with_augment = get_model()\n",
    "model_with_augment.compile(loss='mean_squared_error', optimizer='adam')"
   ]
  },
  {
   "cell_type": "code",
   "execution_count": null,
   "metadata": {
    "collapsed": true
   },
   "outputs": [],
   "source": [
    "# 實現圖片以及關機點 label 做左右翻轉的函數\n",
    "def augment_data(img, points):\n",
    "    rows, cols = img.shape\n",
    "    new_img = np.copy(img)\n",
    "    \n",
    "    # 翻轉圖片\n",
    "    for i in range(96):\n",
    "        for j in range(48):\n",
    "            temp = img[i][j]\n",
    "            new_img[i][j] = img[i][cols-j-1]\n",
    "            new_img[i][cols-j-1] = temp\n",
    "            \n",
    "    # 翻轉關鍵點 label\n",
    "    new_points = np.copy(points)\n",
    "    for i in range(0,30,2):\n",
    "        new_points[i] = -points[i]\n",
    "    \n",
    "    # 調整對稱的 label\n",
    "    new_points_temp = np.copy(new_points)\n",
    "    new_points[0:2] = new_points_temp[2:4]\n",
    "    new_points[2:4] = new_points_temp[0:2]\n",
    "    new_points[4:6] = new_points_temp[8:10]\n",
    "    new_points[6:8] = new_points_temp[10:12]\n",
    "    new_points[8:10] = new_points_temp[4:6]\n",
    "    new_points[10:12] = new_points_temp[6:8]\n",
    "    new_points[12:14] = new_points_temp[16:18]\n",
    "    new_points[14:16] = new_points_temp[18:20]\n",
    "    new_points[16:18] = new_points_temp[12:14]\n",
    "    new_points[18:20] = new_points_temp[14:16]\n",
    "    new_points[22:24] = new_points_temp[24:26]\n",
    "    new_points[24:26] = new_points_temp[22:24]\n",
    "        \n",
    "    return new_img, new_points"
   ]
  },
  {
   "cell_type": "code",
   "execution_count": null,
   "metadata": {},
   "outputs": [],
   "source": [
    "flip_img, flip_points = augment_data(imgs_train[0], points_train[0])\n",
    "\n",
    "fig = plt.figure()\n",
    "ax = fig.add_subplot(1, 2, 1, xticks=[], yticks=[])\n",
    "plot_keypoints(imgs_train[0], points_train[0]) # 原來的圖片\n",
    "ax = fig.add_subplot(1, 2, 2, xticks=[], yticks=[])\n",
    "plot_keypoints(flip_img, flip_points) # 翻轉後的圖片"
   ]
  },
  {
   "cell_type": "code",
   "execution_count": null,
   "metadata": {},
   "outputs": [],
   "source": [
    "# 創建 list\n",
    "aug_imgs_train = []\n",
    "aug_points_train = []\n",
    "\n",
    "# 對所有原始資料做 augmentation\n",
    "for i in range(imgs_train.shape[0]):\n",
    "    # 做左右翻轉\n",
    "    aug_img, aug_point = augment_data(imgs_train[i], points_train[i])\n",
    "    \n",
    "    # append 原始資料\n",
    "    aug_imgs_train.append(imgs_train[i])\n",
    "    aug_points_train.append(points_train[i]) \n",
    "    \n",
    "    # append 做過 augmentation 後的資料\n",
    "    aug_imgs_train.append(aug_img)\n",
    "    aug_points_train.append(aug_point) \n",
    "\n",
    "# convert to numpy\n",
    "aug_imgs_train = np.array(aug_imgs_train)   \n",
    "aug_points_train = np.copy(aug_points_train)\n",
    "\n",
    "print(aug_imgs_train.shape)\n",
    "print(aug_points_train.shape)"
   ]
  },
  {
   "cell_type": "code",
   "execution_count": null,
   "metadata": {},
   "outputs": [],
   "source": [
    "# model checkpoint \n",
    "checkpoint_aug = ModelCheckpoint('best_weights_augment.h5', verbose=1, save_best_only=True)\n",
    "# training the model\n",
    "hist_model_aug = model_with_augment.fit(aug_imgs_train.reshape(aug_imgs_train.shape[0], 96, 96, 1), aug_points_train, \n",
    "                           validation_split=0.2, batch_size=64, callbacks=[checkpoint_aug, hist],\n",
    "                           shuffle=True, epochs=150, verbose=1)"
   ]
  },
  {
   "cell_type": "code",
   "execution_count": null,
   "metadata": {},
   "outputs": [],
   "source": [
    "# loss 值的圖\n",
    "plt.title('Optimizer : Adam', fontsize=10)\n",
    "plt.ylabel('Loss', fontsize=16)\n",
    "plt.plot(hist_model_aug.history['loss'], color='b', label='Training Loss')\n",
    "plt.plot(hist_model_aug.history['val_loss'], color='r', label='Validation Loss')\n",
    "plt.legend(loc='upper right')"
   ]
  },
  {
   "cell_type": "markdown",
   "metadata": {},
   "source": [
    "增加了左右翻轉以後，應該可以在這個範例中看到 loss 有稍微降一點（可能因為隨機而略有不同），這裡的目的主要還是去體會對原始圖像做 augmentation 以後，也要對原始 label 做合理的調整。"
   ]
  },
  {
   "cell_type": "code",
   "execution_count": null,
   "metadata": {
    "collapsed": true
   },
   "outputs": [],
   "source": []
  }
 ],
 "metadata": {
  "kernelspec": {
   "display_name": "Python 3",
   "language": "python",
   "name": "python3"
  },
  "language_info": {
   "codemirror_mode": {
    "name": "ipython",
    "version": 3
   },
   "file_extension": ".py",
   "mimetype": "text/x-python",
   "name": "python",
   "nbconvert_exporter": "python",
   "pygments_lexer": "ipython3",
   "version": "3.6.4"
  }
 },
 "nbformat": 4,
 "nbformat_minor": 2
}
