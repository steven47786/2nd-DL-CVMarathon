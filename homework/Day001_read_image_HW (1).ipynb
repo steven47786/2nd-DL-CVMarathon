{
 "cells": [
  {
   "cell_type": "markdown",
   "metadata": {},
   "source": [
    "# 作業\n",
    "\n",
    "思考一下我們前面有提到圖片是矩陣，但維度可能會不一樣\n",
    "例如灰階圖只有兩個維度，RGB 彩圖則有 3 個維度\n",
    "\n",
    "假如今天我們把 RGB 3 個維度拆開來看會有甚麼不同的效果呢？"
   ]
  },
  {
   "cell_type": "code",
   "execution_count": 3,
   "metadata": {},
   "outputs": [
    {
     "data": {
      "text/plain": [
       "True"
      ]
     },
     "execution_count": 3,
     "metadata": {},
     "output_type": "execute_result"
    }
   ],
   "source": [
    "import cv2\n",
    "import numpy as np\n",
    "\n",
    "IMAGE_PATH = 'lena.png'\n",
    "image = cv2.imread(IMAGE_PATH)\n",
    "cv2.imwrite('image_src.jpg', image)\n",
    "# 顏色通道分離\n",
    "(B, G, R) = cv2.split(image)\n",
    "cv2.imwrite('Blue.jpg', B)    # 注意順序爲B、G、R 圖片主調顏色爲藍色，所以藍色通道的圖像肯定最亮\\\n",
    "cv2.imwrite('Green.jpg', G)\n",
    "cv2.imwrite('Red.jpg', R)    # 圖片上就沒什麼紅色，因此紅色通道的圖像肯定最暗\n",
    "# 觀察R，G，B三通道圖像的真實色彩\n",
    "zeros = np.zeros(image.shape[:2], dtype='uint8') # 注意是單通道圖像，千萬不能寫image.shape，那就是三通道圖像了\n",
    "actual_B = cv2.merge([B, zeros, zeros])  # 綠色通道，注意B與兩個zeros矩陣的順序噢，一定不能錯~\n",
    "actual_G = cv2.merge([zeros, G, zeros])\n",
    "actual_R = cv2.merge([zeros, zeros, G])\n",
    "cv2.imwrite('actualb.jpg', actual_B)\n",
    "cv2.imwrite('actualg.jpg', actual_G)\n",
    "cv2.imwrite('actualr.jpg', actual_R)"
   ]
  },
  {
   "cell_type": "code",
   "execution_count": null,
   "metadata": {},
   "outputs": [],
   "source": []
  }
 ],
 "metadata": {
  "kernelspec": {
   "display_name": "Python 3",
   "language": "python",
   "name": "python3"
  },
  "language_info": {
   "codemirror_mode": {
    "name": "ipython",
    "version": 3
   },
   "file_extension": ".py",
   "mimetype": "text/x-python",
   "name": "python",
   "nbconvert_exporter": "python",
   "pygments_lexer": "ipython3",
   "version": "3.7.6"
  }
 },
 "nbformat": 4,
 "nbformat_minor": 2
}
