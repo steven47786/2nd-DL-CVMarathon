{
 "cells": [
  {
   "cell_type": "markdown",
   "metadata": {},
   "source": [
    "## Day34.YOLO 細節理解 - 損失函數\n",
    "今天的課程，我們講述了\n",
    "* 損失函數是描述模型預測出來的結果和實際的差異的依據    \n",
    "* YOLO 損失函數的設計包含物件位置的定位與物件類別辨識    \n",
    "* YOLO損失函數透過超參數設定模型有不同的辨識能力    \n",
    "\n"
   ]
  },
  {
   "cell_type": "markdown",
   "metadata": {},
   "source": [
    "### 作業\n",
    "仔細觀察，bbox 寬高計算損失方式和bbox中心計算損失方式有哪邊不一樣嗎? 為什麼要有不同的設計?\n",
    "![title](loss function.png)\n",
    "\n"
   ]
  },
  {
   "cell_type": "code",
   "execution_count": 3,
   "metadata": {},
   "outputs": [
    {
     "data": {
      "text/plain": [
       "'\\nBbox寬高的計算方式，先把寬高開開根號\\n後，再算差異的平方，為什麼需要這麼設計?\\n因為大的預測框容易產生較大的誤差，如果損失的設計和中心點相同，會造成模型大物體辨識的能力較差，因此透過開根號修正這樣的情形。\\n開根號的效果如下圖，\\n'"
      ]
     },
     "execution_count": 3,
     "metadata": {},
     "output_type": "execute_result"
    }
   ],
   "source": [
    "'''\n",
    "Bbox寬高的計算方式，先把寬高開開根號後，\n",
    "再算差異的平方，\n",
    "為什麼需要這麼設計?\n",
    "因為大的預測框容易產生較大的誤差，\n",
    "如果損失的設計和中心點相同，\n",
    "會造成模型大物體辨識的能力較差，\n",
    "因此透過開根號修正這樣的情形。\n",
    "開根號的效果如下圖，\n",
    "'''"
   ]
  },
  {
   "cell_type": "markdown",
   "metadata": {},
   "source": [
    "![title](HW_answer.png)"
   ]
  },
  {
   "cell_type": "code",
   "execution_count": 4,
   "metadata": {},
   "outputs": [
    {
     "data": {
      "text/plain": [
       "'\\n首先，我們看一下右邊這張圖代表x和√𝑥 的關係，為一個漸漸平緩的曲線，\\n大物體寬(/高)的預測誤差，和小物體寬(/高)的預測誤差都為 d 時，透過開根號，\\n大物體的寬(/高)的預測誤差量會小於小物體的寬(/高)的預測誤差量，達到大小物件辨識能力接近的設計。\\n'"
      ]
     },
     "execution_count": 4,
     "metadata": {},
     "output_type": "execute_result"
    }
   ],
   "source": [
    "'''\n",
    "首先，我們看一下右邊這張圖代表x和√𝑥 的關係，\n",
    "為一個漸漸平緩的曲線，\n",
    "大物體寬(/高)的預測誤差，和小物體寬(/高)的預測誤差都為 d 時，\n",
    "透過開根號，\n",
    "大物體的寬(/高)的預測誤差量會小於小物體的寬(/高)的預測誤差量，\n",
    "達到大小物件辨識能力接近的設計。\n",
    "'''"
   ]
  }
 ],
 "metadata": {
  "kernelspec": {
   "display_name": "Python 3",
   "language": "python",
   "name": "python3"
  },
  "language_info": {
   "codemirror_mode": {
    "name": "ipython",
    "version": 3
   },
   "file_extension": ".py",
   "mimetype": "text/x-python",
   "name": "python",
   "nbconvert_exporter": "python",
   "pygments_lexer": "ipython3",
   "version": "3.6.1"
  }
 },
 "nbformat": 4,
 "nbformat_minor": 2
}
